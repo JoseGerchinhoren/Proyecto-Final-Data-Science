{
 "cells": [
  {
   "cell_type": "code",
   "execution_count": 1,
   "metadata": {},
   "outputs": [
    {
     "data": {
      "text/html": [
       "<div>\n",
       "<style scoped>\n",
       "    .dataframe tbody tr th:only-of-type {\n",
       "        vertical-align: middle;\n",
       "    }\n",
       "\n",
       "    .dataframe tbody tr th {\n",
       "        vertical-align: top;\n",
       "    }\n",
       "\n",
       "    .dataframe thead th {\n",
       "        text-align: right;\n",
       "    }\n",
       "</style>\n",
       "<table border=\"1\" class=\"dataframe\">\n",
       "  <thead>\n",
       "    <tr style=\"text-align: right;\">\n",
       "      <th></th>\n",
       "      <th>dt_sismo</th>\n",
       "      <th>fecha_sismo</th>\n",
       "      <th>hora_sismo</th>\n",
       "      <th>latitude</th>\n",
       "      <th>longitude</th>\n",
       "      <th>profundidad</th>\n",
       "      <th>mag</th>\n",
       "      <th>ubicacion</th>\n",
       "      <th>pais</th>\n",
       "      <th>peligrosidad</th>\n",
       "    </tr>\n",
       "  </thead>\n",
       "  <tbody>\n",
       "    <tr>\n",
       "      <th>0</th>\n",
       "      <td>2012-01-01 18:50:43+00:00</td>\n",
       "      <td>2012-01-01</td>\n",
       "      <td>18:50:43</td>\n",
       "      <td>-26.913</td>\n",
       "      <td>-71.105</td>\n",
       "      <td>45.2</td>\n",
       "      <td>4.6</td>\n",
       "      <td>91 km WNW of Copiapó, Chile</td>\n",
       "      <td>Chile</td>\n",
       "      <td>moderado</td>\n",
       "    </tr>\n",
       "    <tr>\n",
       "      <th>1</th>\n",
       "      <td>2012-01-01 21:58:16+00:00</td>\n",
       "      <td>2012-01-01</td>\n",
       "      <td>21:58:16</td>\n",
       "      <td>-34.920</td>\n",
       "      <td>-72.759</td>\n",
       "      <td>34.7</td>\n",
       "      <td>4.1</td>\n",
       "      <td>55 km NW of Constitución, Chile</td>\n",
       "      <td>Chile</td>\n",
       "      <td>moderado</td>\n",
       "    </tr>\n",
       "    <tr>\n",
       "      <th>2</th>\n",
       "      <td>2012-01-03 21:50:22+00:00</td>\n",
       "      <td>2012-01-03</td>\n",
       "      <td>21:50:22</td>\n",
       "      <td>-36.994</td>\n",
       "      <td>-74.084</td>\n",
       "      <td>25.1</td>\n",
       "      <td>4.6</td>\n",
       "      <td>73 km WNW of Arauco, Chile</td>\n",
       "      <td>Chile</td>\n",
       "      <td>moderado</td>\n",
       "    </tr>\n",
       "    <tr>\n",
       "      <th>3</th>\n",
       "      <td>2012-01-05 00:54:31+00:00</td>\n",
       "      <td>2012-01-05</td>\n",
       "      <td>00:54:31</td>\n",
       "      <td>-45.992</td>\n",
       "      <td>-76.472</td>\n",
       "      <td>10.0</td>\n",
       "      <td>5.3</td>\n",
       "      <td>290 km W of Puerto Chacabuco, Chile</td>\n",
       "      <td>Chile</td>\n",
       "      <td>fuerte</td>\n",
       "    </tr>\n",
       "    <tr>\n",
       "      <th>4</th>\n",
       "      <td>2012-01-05 09:17:35+00:00</td>\n",
       "      <td>2012-01-05</td>\n",
       "      <td>09:17:35</td>\n",
       "      <td>-27.921</td>\n",
       "      <td>-71.143</td>\n",
       "      <td>45.8</td>\n",
       "      <td>4.6</td>\n",
       "      <td>81 km NNW of Vallenar, Chile</td>\n",
       "      <td>Chile</td>\n",
       "      <td>moderado</td>\n",
       "    </tr>\n",
       "  </tbody>\n",
       "</table>\n",
       "</div>"
      ],
      "text/plain": [
       "                    dt_sismo fecha_sismo hora_sismo  latitude  longitude  \\\n",
       "0  2012-01-01 18:50:43+00:00  2012-01-01   18:50:43   -26.913    -71.105   \n",
       "1  2012-01-01 21:58:16+00:00  2012-01-01   21:58:16   -34.920    -72.759   \n",
       "2  2012-01-03 21:50:22+00:00  2012-01-03   21:50:22   -36.994    -74.084   \n",
       "3  2012-01-05 00:54:31+00:00  2012-01-05   00:54:31   -45.992    -76.472   \n",
       "4  2012-01-05 09:17:35+00:00  2012-01-05   09:17:35   -27.921    -71.143   \n",
       "\n",
       "   profundidad  mag                            ubicacion   pais peligrosidad  \n",
       "0         45.2  4.6          91 km WNW of Copiapó, Chile  Chile     moderado  \n",
       "1         34.7  4.1      55 km NW of Constitución, Chile  Chile     moderado  \n",
       "2         25.1  4.6           73 km WNW of Arauco, Chile  Chile     moderado  \n",
       "3         10.0  5.3  290 km W of Puerto Chacabuco, Chile  Chile       fuerte  \n",
       "4         45.8  4.6         81 km NNW of Vallenar, Chile  Chile     moderado  "
      ]
     },
     "execution_count": 1,
     "metadata": {},
     "output_type": "execute_result"
    }
   ],
   "source": [
    "import pandas as pd\n",
    "\n",
    "# Especifica la ruta y nombre del archivo CSV\n",
    "archivo_csv = \"combined_earthquake_data.csv\"\n",
    "\n",
    "# Lee el archivo CSV con pandas\n",
    "data_frame = pd.read_csv(archivo_csv)\n",
    "\n",
    "# Muestra el contenido del DataFrame\n",
    "data_frame.head()\n"
   ]
  },
  {
   "cell_type": "code",
   "execution_count": 3,
   "metadata": {},
   "outputs": [
    {
     "data": {
      "text/plain": [
       "peligrosidad\n",
       "moderado      24535\n",
       "leve           2725\n",
       "fuerte         1128\n",
       "muy fuerte       10\n",
       "Name: count, dtype: int64"
      ]
     },
     "execution_count": 3,
     "metadata": {},
     "output_type": "execute_result"
    }
   ],
   "source": [
    "# Obtiene los distintos tipos de valores y sus conteos en la columna \"peligrosidad\"\n",
    "conteo_valores = data_frame[\"peligrosidad\"].value_counts()\n",
    "conteo_valores"
   ]
  },
  {
   "cell_type": "code",
   "execution_count": null,
   "metadata": {},
   "outputs": [],
   "source": [
    "from sklearn.model_selection import train_test_split\n",
    "\n",
    "# Dividir el conjunto de datos en características (X) y variable objetivo (y)\n",
    "X = df.drop(\"peligrosidad\", axis=1)  # Características\n",
    "y = df[\"peligrosidad\"]  # Variable objetivo\n",
    "\n",
    "# Dividir los datos en conjuntos de entrenamiento y prueba (proporción 80:20)\n",
    "X_train, X_test, y_train, y_test = train_test_split(X, y, test_size=0.2, random_state=42)\n"
   ]
  }
 ],
 "metadata": {
  "kernelspec": {
   "display_name": "Python 3",
   "language": "python",
   "name": "python3"
  },
  "language_info": {
   "codemirror_mode": {
    "name": "ipython",
    "version": 3
   },
   "file_extension": ".py",
   "mimetype": "text/x-python",
   "name": "python",
   "nbconvert_exporter": "python",
   "pygments_lexer": "ipython3",
   "version": "3.11.1"
  },
  "orig_nbformat": 4
 },
 "nbformat": 4,
 "nbformat_minor": 2
}
